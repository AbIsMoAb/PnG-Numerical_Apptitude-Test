{
 "cells": [
  {
   "cell_type": "code",
   "execution_count": 1,
   "id": "9446dfbd",
   "metadata": {},
   "outputs": [],
   "source": [
    "import pandas as pd\n",
    "import numpy as np\n",
    "import operator as op\n",
    "import random\n",
    "from copy import deepcopy"
   ]
  },
  {
   "cell_type": "markdown",
   "id": "0fc70d26",
   "metadata": {},
   "source": [
    "1) Generating a number of cells.\n",
    "\n",
    "2) generating random list of operators that is n-1 n is the number of cells\n",
    "\n",
    "3) doing the calculation and presenting the number as the input for the match problem"
   ]
  },
  {
   "cell_type": "code",
   "execution_count": 2,
   "id": "3c13a112",
   "metadata": {},
   "outputs": [],
   "source": [
    "def equation (num_of_var):\n",
    "    num_of_op = num_of_var -1\n",
    "    nums = list(range(1,10))\n",
    "    lis_op = [op.add, op.sub, op.mul, op.truediv ]\n",
    "    num_list = []\n",
    "    op_list = []\n",
    "    for n in range(num_of_var):\n",
    "        num_list.append(random.choice(nums))\n",
    "        nums.remove(num_list[n])\n",
    "        if n < num_of_op :\n",
    "            op_list.append(random.choice(lis_op))\n",
    "    return num_list, op_list"
   ]
  },
  {
   "cell_type": "code",
   "execution_count": 3,
   "id": "043ea2dc",
   "metadata": {},
   "outputs": [],
   "source": [
    "def ls_search (lis, items):\n",
    "    indices = []\n",
    "    for i in range(len(lis)):\n",
    "        for item in items:\n",
    "            if lis[i] == item:\n",
    "                indices.append(i)\n",
    "            \n",
    "    return indices\n",
    "\n",
    "def ls_minus (lis, number):\n",
    "    second_lis = []\n",
    "    for i in lis:\n",
    "        second_lis.append(i - number)\n",
    "    return second_lis\n",
    "\n",
    "def checkNatNum(n):\n",
    "    if str(n).isdigit() and float(n) == int(n) and int(n) > 0:\n",
    "        return True\n",
    "    else:\n",
    "        return False"
   ]
  },
  {
   "cell_type": "code",
   "execution_count": 4,
   "id": "2fa9917b",
   "metadata": {},
   "outputs": [],
   "source": [
    "def type_equation (number_list, operators_list):\n",
    "    typ = ''\n",
    "    str_op = {op.add:'+', op.sub:'-', op.mul:'x', op.truediv:'/'}\n",
    "    \n",
    "    nlc = len(number_list)\n",
    "    olc = len(operators_list)\n",
    "    for i in range(olc):\n",
    "        typ = typ + \" _ \" + str_op[operators_list[i]]\n",
    "        \n",
    "    typ = typ + \" _  = \"\n",
    "    \n",
    "    return typ"
   ]
  },
  {
   "cell_type": "code",
   "execution_count": 5,
   "id": "5b75065e",
   "metadata": {},
   "outputs": [],
   "source": [
    "def Operating (number_list, operators_list):\n",
    "    \n",
    "    op_list = deepcopy (operators_list)\n",
    "    num_list = deepcopy (number_list)\n",
    "    # Doing the multiplication & division first\n",
    "    md = ls_search (op_list, [op.mul,op.truediv]) # Multiplication or Division list\n",
    "    for i in range(len(md)):\n",
    "        o=0     # get the num in md which is the position of op func in operators_list\n",
    "        o = md[i]   # changing from the index of elements in md to the actual element itself\n",
    "        y = op_list[o] ( num_list[o] , num_list[o+1] )\n",
    "        \n",
    "        #changing the number list\n",
    "        del num_list[o: o+2] # deleting the two numbers operated on\n",
    "        num_list.insert(o,y) # inserting the y in correct position\n",
    "        \n",
    "        #Updating the operators list\n",
    "        del op_list[o]\n",
    "        #changing the md list\n",
    "        md = ls_minus(md,1)\n",
    "    \n",
    "    \n",
    "    # Doing the subtaction and addition \n",
    "    # Doing the subtaction and addition \n",
    "    sa = ls_search (op_list, [op.add,op.sub]) # s or a list\n",
    "    for i in range(len(sa)):\n",
    "        o=0     # get the num in md which is the position of op func in operators_list\n",
    "        o = sa[i]   # changing from the index of elements in md to the actual element itself\n",
    "        y = op_list[o] ( num_list[o] , num_list[o+1] )\n",
    "        \n",
    "        #changing the number list\n",
    "        del num_list[o: o+2] # deleting the two numbers operated on\n",
    "        num_list.insert(o,y) # inserting the y in correct position\n",
    "        \n",
    "        #Updating the operators list\n",
    "        del op_list[o]\n",
    "        #changing the md list\n",
    "        sa = ls_minus(sa,1)   \n",
    "        \n",
    "        \n",
    "\n",
    "        \n",
    "    return num_list[0]\n",
    "            \n",
    "    "
   ]
  },
  {
   "cell_type": "code",
   "execution_count": 121,
   "id": "db317cb5",
   "metadata": {},
   "outputs": [],
   "source": [
    "# Main"
   ]
  },
  {
   "cell_type": "code",
   "execution_count": 17,
   "id": "bc370519",
   "metadata": {},
   "outputs": [
    {
     "name": "stdout",
     "output_type": "stream",
     "text": [
      " _ + _ x _ + _  = 18\n",
      "2\n",
      "9\n",
      "1\n",
      "7\n",
      "good\n",
      "continue? y\n",
      " _ - _ + _ + _ - _  = 8\n",
      "2\n",
      "1\n",
      "6\n",
      "4\n",
      "3\n",
      "good\n",
      "continue? y\n",
      " _ + _  = 5\n",
      "4\n",
      "1\n",
      "good\n",
      "continue? y\n",
      " _ + _ + _ x _  = 18\n",
      "n\n"
     ]
    },
    {
     "ename": "ValueError",
     "evalue": "invalid literal for int() with base 10: 'n'",
     "output_type": "error",
     "traceback": [
      "\u001b[1;31m---------------------------------------------------------------------------\u001b[0m",
      "\u001b[1;31mValueError\u001b[0m                                Traceback (most recent call last)",
      "\u001b[1;32m<ipython-input-17-c69424e9a739>\u001b[0m in \u001b[0;36m<module>\u001b[1;34m\u001b[0m\n\u001b[0;32m     12\u001b[0m             \u001b[0mprint\u001b[0m \u001b[1;33m(\u001b[0m\u001b[0mtype_equation\u001b[0m \u001b[1;33m(\u001b[0m\u001b[0mvar\u001b[0m\u001b[1;33m,\u001b[0m \u001b[0moper\u001b[0m\u001b[1;33m)\u001b[0m \u001b[1;33m+\u001b[0m \u001b[0mstr\u001b[0m\u001b[1;33m(\u001b[0m\u001b[0mfinal_val\u001b[0m\u001b[1;33m)\u001b[0m\u001b[1;33m)\u001b[0m\u001b[1;33m\u001b[0m\u001b[1;33m\u001b[0m\u001b[0m\n\u001b[0;32m     13\u001b[0m             \u001b[1;32mfor\u001b[0m \u001b[0mi\u001b[0m \u001b[1;32min\u001b[0m \u001b[0mrange\u001b[0m\u001b[1;33m(\u001b[0m\u001b[0mn\u001b[0m\u001b[1;33m)\u001b[0m\u001b[1;33m:\u001b[0m\u001b[1;33m\u001b[0m\u001b[1;33m\u001b[0m\u001b[0m\n\u001b[1;32m---> 14\u001b[1;33m                 \u001b[0mele\u001b[0m \u001b[1;33m=\u001b[0m \u001b[0mint\u001b[0m\u001b[1;33m(\u001b[0m\u001b[0minput\u001b[0m\u001b[1;33m(\u001b[0m\u001b[1;33m)\u001b[0m\u001b[1;33m)\u001b[0m\u001b[1;33m\u001b[0m\u001b[1;33m\u001b[0m\u001b[0m\n\u001b[0m\u001b[0;32m     15\u001b[0m                 \u001b[0mlst\u001b[0m\u001b[1;33m.\u001b[0m\u001b[0mappend\u001b[0m\u001b[1;33m(\u001b[0m\u001b[0mele\u001b[0m\u001b[1;33m)\u001b[0m\u001b[1;33m\u001b[0m\u001b[1;33m\u001b[0m\u001b[0m\n\u001b[0;32m     16\u001b[0m \u001b[1;33m\u001b[0m\u001b[0m\n",
      "\u001b[1;31mValueError\u001b[0m: invalid literal for int() with base 10: 'n'"
     ]
    }
   ],
   "source": [
    "while True:\n",
    "    var, oper = equation(random.randint(2, 5))\n",
    "    final_val = Operating (var, oper)\n",
    "\n",
    "    if checkNatNum (final_val) == True:\n",
    "        \n",
    "        # getting the user guesses\n",
    "        \n",
    "        while True :\n",
    "            lst = []\n",
    "            n = len(var)\n",
    "            print (type_equation (var, oper) + str(final_val))\n",
    "            for i in range(n):\n",
    "                ele = int(input())\n",
    "                lst.append(ele)\n",
    "\n",
    "            #check the answer. \n",
    "            ans = Operating(lst, oper)\n",
    "            if ans == final_val and len(set(lst)) == len(lst):\n",
    "                print ('good')\n",
    "                break\n",
    "\n",
    "        if input('continue? ') == 'n':\n",
    "            break"
   ]
  }
 ],
 "metadata": {
  "kernelspec": {
   "display_name": "Python 3",
   "language": "python",
   "name": "python3"
  },
  "language_info": {
   "codemirror_mode": {
    "name": "ipython",
    "version": 3
   },
   "file_extension": ".py",
   "mimetype": "text/x-python",
   "name": "python",
   "nbconvert_exporter": "python",
   "pygments_lexer": "ipython3",
   "version": "3.7.6"
  }
 },
 "nbformat": 4,
 "nbformat_minor": 5
}
